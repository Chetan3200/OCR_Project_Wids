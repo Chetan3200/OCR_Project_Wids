{
  "cells": [
    {
      "cell_type": "markdown",
      "metadata": {
        "id": "view-in-github",
        "colab_type": "text"
      },
      "source": [
        "<a href=\"https://colab.research.google.com/github/Chetan3200/OCR_Project_Wids/blob/master/Task_2.ipynb\" target=\"_parent\"><img src=\"https://colab.research.google.com/assets/colab-badge.svg\" alt=\"Open In Colab\"/></a>"
      ]
    },
    {
      "cell_type": "code",
      "execution_count": 1,
      "id": "766bcf9e",
      "metadata": {
        "id": "766bcf9e"
      },
      "outputs": [],
      "source": [
        "import tensorflow as tf\n",
        "from tensorflow import keras\n",
        "import matplotlib.pyplot as plt\n",
        "import seaborn as sns\n",
        "import pandas as pd\n",
        "\n",
        "%matplotlib inline\n",
        "import numpy as np"
      ]
    },
    {
      "cell_type": "code",
      "source": [
        "from google.colab import drive\n",
        "drive.mount('/content/drive')"
      ],
      "metadata": {
        "id": "JWt9kIQT5BCA",
        "colab": {
          "base_uri": "https://localhost:8080/"
        },
        "outputId": "2f66da1d-e1d1-4b3c-f387-f6794bbbc893"
      },
      "id": "JWt9kIQT5BCA",
      "execution_count": 2,
      "outputs": [
        {
          "output_type": "stream",
          "name": "stdout",
          "text": [
            "Mounted at /content/drive\n"
          ]
        }
      ]
    },
    {
      "cell_type": "code",
      "source": [
        "path_1 = \"/content/drive/MyDrive/OCR/emnist-balanced-train.csv\"\n",
        "path_2 = \"/content/drive/MyDrive/OCR/emnist-balanced-test.csv\""
      ],
      "metadata": {
        "id": "bQJsgIOs4yCI"
      },
      "id": "bQJsgIOs4yCI",
      "execution_count": 3,
      "outputs": []
    },
    {
      "cell_type": "code",
      "execution_count": 4,
      "id": "3cee73ec",
      "metadata": {
        "id": "3cee73ec"
      },
      "outputs": [],
      "source": [
        "train = pd.read_csv(path_1)\n",
        "test = pd.read_csv(path_2)"
      ]
    },
    {
      "cell_type": "code",
      "execution_count": 5,
      "id": "09787dea",
      "metadata": {
        "scrolled": false,
        "id": "09787dea"
      },
      "outputs": [],
      "source": [
        "label = train['45']\n",
        "train = train.drop('45', axis = 1)"
      ]
    },
    {
      "cell_type": "code",
      "execution_count": 6,
      "id": "3f70317c",
      "metadata": {
        "id": "3f70317c"
      },
      "outputs": [],
      "source": [
        "test_label = test['41']\n",
        "test = test.drop('41', axis = 1)"
      ]
    },
    {
      "cell_type": "code",
      "execution_count": 7,
      "id": "8e61601b",
      "metadata": {
        "id": "8e61601b",
        "outputId": "2c80ff30-c825-4027-c933-d4286ec847a7",
        "colab": {
          "base_uri": "https://localhost:8080/"
        }
      },
      "outputs": [
        {
          "output_type": "stream",
          "name": "stdout",
          "text": [
            "(112799,)\n",
            "(112799, 784)\n"
          ]
        }
      ],
      "source": [
        "print(label.shape)\n",
        "print(train.shape)"
      ]
    },
    {
      "cell_type": "code",
      "execution_count": 8,
      "id": "47033c2c",
      "metadata": {
        "id": "47033c2c"
      },
      "outputs": [],
      "source": [
        "train_copy = train.copy()"
      ]
    },
    {
      "cell_type": "markdown",
      "id": "58b8762b",
      "metadata": {
        "id": "58b8762b"
      },
      "source": [
        "# Using neural network to classify the dataset "
      ]
    },
    {
      "cell_type": "code",
      "execution_count": 9,
      "id": "b6e15375",
      "metadata": {
        "id": "b6e15375",
        "outputId": "89657dca-e30b-46b7-e6e4-1fb47099b938",
        "colab": {
          "base_uri": "https://localhost:8080/"
        }
      },
      "outputs": [
        {
          "output_type": "execute_result",
          "data": {
            "text/plain": [
              "0         36\n",
              "1         43\n",
              "2         15\n",
              "3          4\n",
              "4         42\n",
              "          ..\n",
              "112794    22\n",
              "112795    17\n",
              "112796    23\n",
              "112797    31\n",
              "112798     8\n",
              "Name: 45, Length: 112799, dtype: int64"
            ]
          },
          "metadata": {},
          "execution_count": 9
        }
      ],
      "source": [
        "label"
      ]
    },
    {
      "cell_type": "code",
      "execution_count": 10,
      "id": "eaa205d8",
      "metadata": {
        "id": "eaa205d8",
        "outputId": "106baafc-e9f8-4543-bbc1-73b8266416d8",
        "colab": {
          "base_uri": "https://localhost:8080/",
          "height": 423
        }
      },
      "outputs": [
        {
          "output_type": "execute_result",
          "data": {
            "text/html": [
              "\n",
              "  <div id=\"df-1f1d59a0-f248-414c-a354-5c8ba16829f9\">\n",
              "    <div class=\"colab-df-container\">\n",
              "      <div>\n",
              "<style scoped>\n",
              "    .dataframe tbody tr th:only-of-type {\n",
              "        vertical-align: middle;\n",
              "    }\n",
              "\n",
              "    .dataframe tbody tr th {\n",
              "        vertical-align: top;\n",
              "    }\n",
              "\n",
              "    .dataframe thead th {\n",
              "        text-align: right;\n",
              "    }\n",
              "</style>\n",
              "<table border=\"1\" class=\"dataframe\">\n",
              "  <thead>\n",
              "    <tr style=\"text-align: right;\">\n",
              "      <th></th>\n",
              "      <th>45</th>\n",
              "    </tr>\n",
              "  </thead>\n",
              "  <tbody>\n",
              "    <tr>\n",
              "      <th>0</th>\n",
              "      <td>36</td>\n",
              "    </tr>\n",
              "    <tr>\n",
              "      <th>1</th>\n",
              "      <td>43</td>\n",
              "    </tr>\n",
              "    <tr>\n",
              "      <th>2</th>\n",
              "      <td>15</td>\n",
              "    </tr>\n",
              "    <tr>\n",
              "      <th>3</th>\n",
              "      <td>4</td>\n",
              "    </tr>\n",
              "    <tr>\n",
              "      <th>4</th>\n",
              "      <td>42</td>\n",
              "    </tr>\n",
              "    <tr>\n",
              "      <th>...</th>\n",
              "      <td>...</td>\n",
              "    </tr>\n",
              "    <tr>\n",
              "      <th>112794</th>\n",
              "      <td>22</td>\n",
              "    </tr>\n",
              "    <tr>\n",
              "      <th>112795</th>\n",
              "      <td>17</td>\n",
              "    </tr>\n",
              "    <tr>\n",
              "      <th>112796</th>\n",
              "      <td>23</td>\n",
              "    </tr>\n",
              "    <tr>\n",
              "      <th>112797</th>\n",
              "      <td>31</td>\n",
              "    </tr>\n",
              "    <tr>\n",
              "      <th>112798</th>\n",
              "      <td>8</td>\n",
              "    </tr>\n",
              "  </tbody>\n",
              "</table>\n",
              "<p>112799 rows × 1 columns</p>\n",
              "</div>\n",
              "      <button class=\"colab-df-convert\" onclick=\"convertToInteractive('df-1f1d59a0-f248-414c-a354-5c8ba16829f9')\"\n",
              "              title=\"Convert this dataframe to an interactive table.\"\n",
              "              style=\"display:none;\">\n",
              "        \n",
              "  <svg xmlns=\"http://www.w3.org/2000/svg\" height=\"24px\"viewBox=\"0 0 24 24\"\n",
              "       width=\"24px\">\n",
              "    <path d=\"M0 0h24v24H0V0z\" fill=\"none\"/>\n",
              "    <path d=\"M18.56 5.44l.94 2.06.94-2.06 2.06-.94-2.06-.94-.94-2.06-.94 2.06-2.06.94zm-11 1L8.5 8.5l.94-2.06 2.06-.94-2.06-.94L8.5 2.5l-.94 2.06-2.06.94zm10 10l.94 2.06.94-2.06 2.06-.94-2.06-.94-.94-2.06-.94 2.06-2.06.94z\"/><path d=\"M17.41 7.96l-1.37-1.37c-.4-.4-.92-.59-1.43-.59-.52 0-1.04.2-1.43.59L10.3 9.45l-7.72 7.72c-.78.78-.78 2.05 0 2.83L4 21.41c.39.39.9.59 1.41.59.51 0 1.02-.2 1.41-.59l7.78-7.78 2.81-2.81c.8-.78.8-2.07 0-2.86zM5.41 20L4 18.59l7.72-7.72 1.47 1.35L5.41 20z\"/>\n",
              "  </svg>\n",
              "      </button>\n",
              "      \n",
              "  <style>\n",
              "    .colab-df-container {\n",
              "      display:flex;\n",
              "      flex-wrap:wrap;\n",
              "      gap: 12px;\n",
              "    }\n",
              "\n",
              "    .colab-df-convert {\n",
              "      background-color: #E8F0FE;\n",
              "      border: none;\n",
              "      border-radius: 50%;\n",
              "      cursor: pointer;\n",
              "      display: none;\n",
              "      fill: #1967D2;\n",
              "      height: 32px;\n",
              "      padding: 0 0 0 0;\n",
              "      width: 32px;\n",
              "    }\n",
              "\n",
              "    .colab-df-convert:hover {\n",
              "      background-color: #E2EBFA;\n",
              "      box-shadow: 0px 1px 2px rgba(60, 64, 67, 0.3), 0px 1px 3px 1px rgba(60, 64, 67, 0.15);\n",
              "      fill: #174EA6;\n",
              "    }\n",
              "\n",
              "    [theme=dark] .colab-df-convert {\n",
              "      background-color: #3B4455;\n",
              "      fill: #D2E3FC;\n",
              "    }\n",
              "\n",
              "    [theme=dark] .colab-df-convert:hover {\n",
              "      background-color: #434B5C;\n",
              "      box-shadow: 0px 1px 3px 1px rgba(0, 0, 0, 0.15);\n",
              "      filter: drop-shadow(0px 1px 2px rgba(0, 0, 0, 0.3));\n",
              "      fill: #FFFFFF;\n",
              "    }\n",
              "  </style>\n",
              "\n",
              "      <script>\n",
              "        const buttonEl =\n",
              "          document.querySelector('#df-1f1d59a0-f248-414c-a354-5c8ba16829f9 button.colab-df-convert');\n",
              "        buttonEl.style.display =\n",
              "          google.colab.kernel.accessAllowed ? 'block' : 'none';\n",
              "\n",
              "        async function convertToInteractive(key) {\n",
              "          const element = document.querySelector('#df-1f1d59a0-f248-414c-a354-5c8ba16829f9');\n",
              "          const dataTable =\n",
              "            await google.colab.kernel.invokeFunction('convertToInteractive',\n",
              "                                                     [key], {});\n",
              "          if (!dataTable) return;\n",
              "\n",
              "          const docLinkHtml = 'Like what you see? Visit the ' +\n",
              "            '<a target=\"_blank\" href=https://colab.research.google.com/notebooks/data_table.ipynb>data table notebook</a>'\n",
              "            + ' to learn more about interactive tables.';\n",
              "          element.innerHTML = '';\n",
              "          dataTable['output_type'] = 'display_data';\n",
              "          await google.colab.output.renderOutput(dataTable, element);\n",
              "          const docLink = document.createElement('div');\n",
              "          docLink.innerHTML = docLinkHtml;\n",
              "          element.appendChild(docLink);\n",
              "        }\n",
              "      </script>\n",
              "    </div>\n",
              "  </div>\n",
              "  "
            ],
            "text/plain": [
              "        45\n",
              "0       36\n",
              "1       43\n",
              "2       15\n",
              "3        4\n",
              "4       42\n",
              "...     ..\n",
              "112794  22\n",
              "112795  17\n",
              "112796  23\n",
              "112797  31\n",
              "112798   8\n",
              "\n",
              "[112799 rows x 1 columns]"
            ]
          },
          "metadata": {},
          "execution_count": 10
        }
      ],
      "source": [
        "label.to_frame()"
      ]
    },
    {
      "cell_type": "code",
      "execution_count": 11,
      "id": "c999450d",
      "metadata": {
        "id": "c999450d"
      },
      "outputs": [],
      "source": [
        "train = train.to_numpy()"
      ]
    },
    {
      "cell_type": "code",
      "execution_count": 12,
      "id": "cbb9bddd",
      "metadata": {
        "id": "cbb9bddd",
        "outputId": "6fb2c111-55e9-4365-be87-a8ab511d6e4a",
        "colab": {
          "base_uri": "https://localhost:8080/"
        }
      },
      "outputs": [
        {
          "output_type": "execute_result",
          "data": {
            "text/plain": [
              "(112799, 784)"
            ]
          },
          "metadata": {},
          "execution_count": 12
        }
      ],
      "source": [
        "train = train/255\n",
        "train.shape"
      ]
    },
    {
      "cell_type": "code",
      "source": [
        "model = keras.Sequential([\n",
        "    keras.layers.Dense(100, input_shape=(784,), activation='relu'),\n",
        "    keras.layers.Dense(47, activation='sigmoid')\n",
        "])\n",
        "\n",
        "model.compile(optimizer='adam',\n",
        "              loss='sparse_categorical_crossentropy',\n",
        "              metrics=['accuracy'])\n",
        "\n",
        "model.fit(train, label, epochs=5)"
      ],
      "metadata": {
        "id": "B45MI4ms6inT",
        "colab": {
          "base_uri": "https://localhost:8080/"
        },
        "outputId": "50cd178b-be85-4c23-faed-d2e5f95f2ad4"
      },
      "id": "B45MI4ms6inT",
      "execution_count": 13,
      "outputs": [
        {
          "output_type": "stream",
          "name": "stdout",
          "text": [
            "Epoch 1/5\n",
            "3525/3525 [==============================] - 10s 3ms/step - loss: 1.1205 - accuracy: 0.6817\n",
            "Epoch 2/5\n",
            "3525/3525 [==============================] - 9s 3ms/step - loss: 0.7064 - accuracy: 0.7832\n",
            "Epoch 3/5\n",
            "3525/3525 [==============================] - 9s 3ms/step - loss: 0.6021 - accuracy: 0.8089\n",
            "Epoch 4/5\n",
            "3525/3525 [==============================] - 9s 3ms/step - loss: 0.5493 - accuracy: 0.8224\n",
            "Epoch 5/5\n",
            "3525/3525 [==============================] - 9s 3ms/step - loss: 0.5167 - accuracy: 0.8302\n"
          ]
        },
        {
          "output_type": "execute_result",
          "data": {
            "text/plain": [
              "<keras.callbacks.History at 0x7f0d4b9bc690>"
            ]
          },
          "metadata": {},
          "execution_count": 13
        }
      ]
    },
    {
      "cell_type": "code",
      "source": [
        "model.evaluate(test,test_label)"
      ],
      "metadata": {
        "id": "-ByescsNBQ8W",
        "colab": {
          "base_uri": "https://localhost:8080/"
        },
        "outputId": "4bd60d12-8c60-4997-918f-04d8ff524e93"
      },
      "id": "-ByescsNBQ8W",
      "execution_count": 14,
      "outputs": [
        {
          "output_type": "stream",
          "name": "stdout",
          "text": [
            "588/588 [==============================] - 1s 2ms/step - loss: 99.3862 - accuracy: 0.8010\n"
          ]
        },
        {
          "output_type": "execute_result",
          "data": {
            "text/plain": [
              "[99.38616943359375, 0.8010000586509705]"
            ]
          },
          "metadata": {},
          "execution_count": 14
        }
      ]
    },
    {
      "cell_type": "code",
      "source": [
        "train = train[0:50000]\n",
        "label = label[0:50000]"
      ],
      "metadata": {
        "id": "HHmb8ucOs4Ae"
      },
      "id": "HHmb8ucOs4Ae",
      "execution_count": 15,
      "outputs": []
    },
    {
      "cell_type": "code",
      "source": [
        "# from sklearn.linear_model import LogisticRegression\n",
        "# lreg = LogisticRegression()\n",
        "# lreg.fit(train, label)"
      ],
      "metadata": {
        "id": "DtzqZ7m72g1S"
      },
      "id": "DtzqZ7m72g1S",
      "execution_count": 16,
      "outputs": []
    },
    {
      "cell_type": "code",
      "source": [
        "# lreg.score(test, test_label)"
      ],
      "metadata": {
        "id": "_Ohejvjg2gxT"
      },
      "id": "_Ohejvjg2gxT",
      "execution_count": 17,
      "outputs": []
    },
    {
      "cell_type": "code",
      "source": [
        ""
      ],
      "metadata": {
        "id": "VEYhNnR32gvl"
      },
      "id": "VEYhNnR32gvl",
      "execution_count": 17,
      "outputs": []
    },
    {
      "cell_type": "code",
      "source": [
        "#The following two code is to check what figure looks like and what is stored in the label.\n",
        "# ascii_code = []\n",
        "# for i in range(48, 58):\n",
        "#     ascii_code.append(chr(i))\n",
        "# for i in range(65,91):\n",
        "#     ascii_code.append(chr(i))\n",
        "# x = [97 ,98 ,100, 101, 102, 103, 104, 110, 113, 114, 116]\n",
        "# for i in x:\n",
        "#     ascii_code.append(chr(i))\n",
        "\n",
        "# mapped_dictionary = {}\n",
        "# for i in range(0,47):\n",
        "#     mapped_dictionary[i] = ascii_code[i]\n",
        "\n",
        "# # mapped_dictionary\n",
        "# for i in range(0,112799):\n",
        "#     label[i] = mapped_dictionary[label[i]]"
      ],
      "metadata": {
        "id": "wSKyQ59k9o9A"
      },
      "id": "wSKyQ59k9o9A",
      "execution_count": 18,
      "outputs": []
    },
    {
      "cell_type": "code",
      "source": [
        "# m = train_copy.iloc[0].to_numpy()\n",
        "# m = m.reshape(28,28)\n",
        "# m = m.T\n",
        "# m = m/255\n",
        "# sns.heatmap(m, cmap='binary', cbar = False, xticklabels=False, yticklabels=False)\n",
        "# plt.show()"
      ],
      "metadata": {
        "id": "yRbdiWWV6ijL"
      },
      "id": "yRbdiWWV6ijL",
      "execution_count": 19,
      "outputs": []
    },
    {
      "cell_type": "code",
      "source": [
        "# label[0]"
      ],
      "metadata": {
        "id": "WJLks0hw6ihR"
      },
      "id": "WJLks0hw6ihR",
      "execution_count": 20,
      "outputs": []
    },
    {
      "cell_type": "code",
      "source": [
        ""
      ],
      "metadata": {
        "id": "YaT6FtEY6icT"
      },
      "id": "YaT6FtEY6icT",
      "execution_count": 20,
      "outputs": []
    }
  ],
  "metadata": {
    "kernelspec": {
      "display_name": "Python 3 (ipykernel)",
      "language": "python",
      "name": "python3"
    },
    "language_info": {
      "codemirror_mode": {
        "name": "ipython",
        "version": 3
      },
      "file_extension": ".py",
      "mimetype": "text/x-python",
      "name": "python",
      "nbconvert_exporter": "python",
      "pygments_lexer": "ipython3",
      "version": "3.9.7"
    },
    "colab": {
      "name": "Task 2.ipynb",
      "provenance": [],
      "collapsed_sections": [],
      "include_colab_link": true
    }
  },
  "nbformat": 4,
  "nbformat_minor": 5
}